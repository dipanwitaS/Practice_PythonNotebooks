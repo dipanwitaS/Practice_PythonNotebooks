{
 "cells": [
  {
   "cell_type": "markdown",
   "metadata": {},
   "source": [
    "## if elif loop"
   ]
  },
  {
   "cell_type": "code",
   "execution_count": 7,
   "metadata": {},
   "outputs": [
    {
     "name": "stdout",
     "output_type": "stream",
     "text": [
      "please enter your birth year2020\n",
      "You are not a millenial\n"
     ]
    }
   ],
   "source": [
    "birth_year = int(input(\"please enter your birth year\"))\n",
    "if birth_year <= 1950:\n",
    "    print(\" You are very old\")\n",
    "elif birth_year > 1951 and birth_year <= 1980:\n",
    "    print(\"You are not that old\")\n",
    "elif birth_year > 1980:\n",
    "    print(\"You are not a millenial\")\n",
    "else:\n",
    "    print (\"Please input correct year\")    "
   ]
  },
  {
   "cell_type": "code",
   "execution_count": 12,
   "metadata": {},
   "outputs": [
    {
     "name": "stdout",
     "output_type": "stream",
     "text": [
      "Please enter your usernamedipanwitaS\n",
      "Please enter your passworddipa\n",
      "Your username is dipanwitaS and password is dipa\n"
     ]
    }
   ],
   "source": [
    "username = input(\"Please enter your username\")\n",
    "password = input(\"Please enter your password\")\n",
    "\n",
    "print( \"Your username is {} and password is {}\".format(username,password))"
   ]
  },
  {
   "cell_type": "markdown",
   "metadata": {},
   "source": [
    "# list\n"
   ]
  },
  {
   "cell_type": "code",
   "execution_count": null,
   "metadata": {},
   "outputs": [],
   "source": []
  }
 ],
 "metadata": {
  "kernelspec": {
   "display_name": "Python 3",
   "language": "python",
   "name": "python3"
  },
  "language_info": {
   "codemirror_mode": {
    "name": "ipython",
    "version": 3
   },
   "file_extension": ".py",
   "mimetype": "text/x-python",
   "name": "python",
   "nbconvert_exporter": "python",
   "pygments_lexer": "ipython3",
   "version": "3.8.3"
  }
 },
 "nbformat": 4,
 "nbformat_minor": 4
}
